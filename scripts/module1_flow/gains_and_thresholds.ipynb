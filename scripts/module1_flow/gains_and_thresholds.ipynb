{
 "cells": [
  {
   "cell_type": "code",
   "execution_count": 1,
   "id": "0506ebd9-9965-46ab-b7bd-253c7f981b0f",
   "metadata": {
    "tags": []
   },
   "outputs": [
    {
     "name": "stderr",
     "output_type": "stream",
     "text": [
      "WARNING:root:Running without mpi4py because No module named 'mpi4py'\n"
     ]
    }
   ],
   "source": [
    "import h5py\n",
    "import matplotlib.pyplot as plt\n",
    "import h5flow\n",
    "import numpy as np\n",
    "from h5flow.data import H5FlowDataManager"
   ]
  },
  {
   "cell_type": "code",
   "execution_count": null,
   "id": "e58ed757-2abc-45a7-a577-8189aee9d4d4",
   "metadata": {
    "tags": []
   },
   "outputs": [],
   "source": [
    "#Get Mod1 gains from csv file\n",
    "\n",
    "def make_gains():\n",
    "    f_gains = \"mod1_gain_corrected.csv\"\n",
    "    corrections = np.loadtxt(f_gains, skiprows = 1, delimiter = ',', usecols = [0,1,-1], dtype=[('ADC_ID', int), ('ADC_ch', int), ('GAIN_CORR',float)])\n",
    "\n",
    "    file = open(\"gains.yaml\", 'w')\n",
    "\n",
    "    file.write(\"default : 0.0000e+00\\n\")\n",
    "    for i_ADC in np.unique(corrections['ADC_ID']):\n",
    "        \n",
    "        correction_ADC = correction[correction['ADC_ID'] == i_ADC]\n",
    "        \n",
    "        file.write(\"{} :\\n\".format(i_ADC))\n",
    "        \n",
    "        for e in corrections:\n",
    "            if e['ADC_ID']==i_ADC:\n",
    "                file.write(\"  {} : {}\\n\".format(e['ADC_ch'], 1/(4*e['GAIN_CORR'])))\n",
    "\n",
    "    file.close()\n",
    "\n",
    "# make_gains()"
   ]
  },
  {
   "cell_type": "code",
   "execution_count": 16,
   "id": "e9e72bd9-0568-4c6f-afa5-c33e263af88e",
   "metadata": {
    "tags": []
   },
   "outputs": [],
   "source": [
    "# File was generated with ./run_light_flow-keep_wvfm.sh\n",
    "filename = \"0cd913fb_20220211_074023.data.module1_flow.h5\""
   ]
  },
  {
   "cell_type": "code",
   "execution_count": 17,
   "id": "c3a779cb-c740-4e6a-bac2-5c3a8dbe6144",
   "metadata": {
    "tags": []
   },
   "outputs": [],
   "source": [
    "f = h5py.File(filename, 'r')"
   ]
  },
  {
   "cell_type": "code",
   "execution_count": 18,
   "id": "7fb85849-7e72-4a41-8d03-9f93adca6b42",
   "metadata": {
    "tags": []
   },
   "outputs": [],
   "source": [
    "cwvfm = f['light/cwvfm/data']\n",
    "swvfm = f['light/swvfm/data']"
   ]
  },
  {
   "cell_type": "code",
   "execution_count": 21,
   "id": "12ad4b3a-1655-497f-a147-95a66bde4c4c",
   "metadata": {
    "tags": []
   },
   "outputs": [],
   "source": [
    "n_events = len(cwvfm)\n",
    "cwvfm_slice = np.zeros((n_events, 2, 64, 25))\n",
    "swvfm_slice = np.zeros((n_events, 2, 16, 25))"
   ]
  },
  {
   "cell_type": "code",
   "execution_count": 22,
   "id": "a21d7536-f8a6-403c-beb8-7f02d3cf8dac",
   "metadata": {
    "tags": []
   },
   "outputs": [],
   "source": [
    "for e in range(n_events):\n",
    "    cwvfm_slice[e] = cwvfm[e][0][:,:,25:50]\n"
   ]
  },
  {
   "cell_type": "code",
   "execution_count": 23,
   "id": "2157f47b-f244-41c0-bef3-c2e25ca6a78f",
   "metadata": {
    "tags": []
   },
   "outputs": [
    {
     "name": "stdout",
     "output_type": "stream",
     "text": [
      "[[ 0.          0.          0.          0.          0.85630956  0.8862136\n",
      "   0.92054453  0.93617574  0.88753348  0.89518744  0.85645633  0.81847515\n",
      "   0.84531431  0.87963329  0.84039576  0.8445361   0.          0.\n",
      "   0.          0.          0.86638523  0.53159895  0.58070245  0.97360944\n",
      "   0.91088244  0.96694504  0.924348    0.88628673  0.90806879  0.92272232\n",
      "   0.92867751  0.88577671  0.          0.          0.          0.\n",
      "   0.86045093 32.80868591  0.85704635  0.93779352  0.86831662  0.85683257\n",
      "   0.88452258  0.86232209  0.89271747  0.          0.90929493  0.90171325\n",
      "   0.          0.          0.          0.          0.68514705  0.85709931\n",
      "   0.          0.76230979  0.87206963  0.83934917  0.92435045  0.93261156\n",
      "   0.94449678  0.97629307  0.95173993  0.9516315 ]\n",
      " [ 0.          0.          0.          0.          2.32108085  2.22180059\n",
      "   2.15929829  2.12915832  2.33025229  2.32706998  2.13338809  2.31463201\n",
      "   1.90872394  1.88808119  1.75645171  1.70887925  0.          0.\n",
      "   0.          0.          2.49361     2.61220909  2.76163254  2.65569805\n",
      "   2.44212322  2.46769298  2.25288098  2.23138421  2.09295937  2.15566369\n",
      "   1.95709653  1.88329076  0.          0.          0.          0.\n",
      "   2.66302216  2.76070896  2.03640359  2.56949127  2.56543234  2.62752319\n",
      "   2.86427613  2.69109297  2.72262092  2.66791345  2.16881561  2.17027957\n",
      "   0.          0.          0.          0.          2.97950781  2.81456785\n",
      "   3.03524609  3.059782    2.64266893  2.64666192  2.50928545  2.46759074\n",
      "   2.18126233  2.30289978  1.91662939  1.86827276]]\n"
     ]
    }
   ],
   "source": [
    "cwvfm_thresholds = 3*cwvfm_slice.std(axis=-1).mean(axis=0)\n",
    "print(cwvfm_thresholds)"
   ]
  },
  {
   "cell_type": "code",
   "execution_count": 24,
   "id": "a25a1f94-5229-4382-8a36-5e5908f783eb",
   "metadata": {
    "tags": []
   },
   "outputs": [],
   "source": [
    "file = open(\"sipm_threshold.yaml\", 'w')\n",
    "for adc in range(len(cwvfm_thresholds)):\n",
    "    file.write(\"{}:\\n\".format(adc))\n",
    "    for channel in range(len(cwvfm_thresholds[adc])):\n",
    "        threshold = cwvfm_thresholds[adc, channel]\n",
    "        if threshold == 0:\n",
    "            continue\n",
    "        file.write(\"  {}: {}\\n\".format(channel, threshold))\n",
    "file.close()"
   ]
  },
  {
   "cell_type": "code",
   "execution_count": 25,
   "id": "fee4104c-465f-4daa-a22f-37c25838679f",
   "metadata": {
    "tags": []
   },
   "outputs": [],
   "source": [
    "for e in range(n_events):\n",
    "    swvfm_slice[e] = swvfm[e][0][:,:,25:50]\n"
   ]
  },
  {
   "cell_type": "code",
   "execution_count": 26,
   "id": "668f3651-83bd-4447-9a2d-0c45cb548bfb",
   "metadata": {
    "tags": []
   },
   "outputs": [
    {
     "name": "stdout",
     "output_type": "stream",
     "text": [
      "[[ 4.10118387  1.46161274  1.50291913  1.46763426  3.32043883  1.56797126\n",
      "   1.58084211  1.56757699 13.68600311  5.32720535  5.15836258  4.11340848\n",
      "  15.81276914  4.75265095  4.25587073  3.57949502]\n",
      " [12.18258831  4.21794029  3.57768999  3.21844277 14.03869786  4.26362175\n",
      "   4.01890739  3.61838895 33.34162994  1.51097815  0.89271747  1.56207255\n",
      "   2.8988711   1.60809107  1.65946382  1.64360701]]\n"
     ]
    }
   ],
   "source": [
    "swvfm_thresholds = 3*swvfm_slice.std(axis=-1).mean(axis=0)\n",
    "print(3*swvfm_slice.std(axis=-1).mean(axis=0))"
   ]
  },
  {
   "cell_type": "code",
   "execution_count": 27,
   "id": "f34c3265-ef38-4d1e-b819-5c0ea1505eaa",
   "metadata": {
    "tags": []
   },
   "outputs": [],
   "source": [
    "file = open(\"sum_threshold.yaml\", 'w')\n",
    "for adc in range(len(swvfm_thresholds)):\n",
    "    file.write(\"{}:\\n\".format(adc))\n",
    "    for channel in range(len(swvfm_thresholds[adc])):\n",
    "        threshold = swvfm_thresholds[adc, channel]\n",
    "        if threshold == 0:\n",
    "            continue\n",
    "        file.write(\"  {}: {}\\n\".format(channel, threshold))\n",
    "file.close()"
   ]
  }
 ],
 "metadata": {
  "kernelspec": {
   "display_name": "MyEnv",
   "language": "python",
   "name": "myenv"
  },
  "language_info": {
   "codemirror_mode": {
    "name": "ipython",
    "version": 3
   },
   "file_extension": ".py",
   "mimetype": "text/x-python",
   "name": "python",
   "nbconvert_exporter": "python",
   "pygments_lexer": "ipython3",
   "version": "3.11.3"
  }
 },
 "nbformat": 4,
 "nbformat_minor": 5
}
