{
 "cells": [
  {
   "cell_type": "code",
   "execution_count": 1,
   "id": "e1776735-6b54-414e-8937-9da3455fcab9",
   "metadata": {
    "tags": []
   },
   "outputs": [
    {
     "name": "stderr",
     "output_type": "stream",
     "text": [
      "WARNING:root:Running without mpi4py because No module named 'mpi4py'\n"
     ]
    },
    {
     "name": "stdout",
     "output_type": "stream",
     "text": [
      "/global/cfs/cdirs/dune/users/demaross/MiniRun5_files_new_cluster/MiniRun5_1E19_RHC.flow.0000234.FLOW.hdf5\n"
     ]
    }
   ],
   "source": [
    "import numpy as np\n",
    "from h5flow.data import dereference\n",
    "import h5flow\n",
    "import matplotlib.pyplot as plt\n",
    "import glob\n",
    "import mplhep as hep\n",
    "\n",
    "flist = glob.glob('/global/cfs/cdirs/dune/users/demaross/MiniRun5_files_new_cluster/*.hdf5')\n",
    "f_manager1 = h5flow.data.H5FlowDataManager(flist, 'r')\n",
    "\n",
    "#Detector boundaries\n",
    "x_boundaries = np.array([-63.931, -3.069, 3.069, 63.931])\n",
    "y_boundaries = np.array([-42-19.8543, -42+103.8543]) \n",
    "z_boundaries = np.array([-64.3163,  -2.6837, 2.6837, 64.3163])\n",
    "\n",
    "\n",
    "def back_track_hits(files, hits_dset_name):\n",
    "    makeup_of_selection = []\n",
    "    energy_ratio = []\n",
    "    for file in files:\n",
    "        print(file)\n",
    "        try:\n",
    "            # Load data sets\n",
    "            f = h5flow.data.H5FlowDataManager(file, 'r')\n",
    "\n",
    "            segments = f['mc_truth/segments/data']\n",
    "            trajectories = f['mc_truth/trajectories/data']\n",
    "            dset_hits = f['charge/'+hits_dset_name+'/data']\n",
    "\n",
    "            track2hits = dereference(\n",
    "                f['/analysis/rock_muon_tracks/data']['rock_muon_id'],     # indices of A to load references for, shape: (n,)\n",
    "                f['/analysis/rock_muon_tracks/ref/charge/calib_prompt_hits/ref'],  # references to use, shape: (L,)\n",
    "                f['/charge/calib_prompt_hits/data'],\n",
    "                ref_direction=(0,1)  # dataset to load, shape: (M,)\n",
    "            )\n",
    "\n",
    "            # Loop through the tracks\n",
    "            for hits_of_track in track2hits:\n",
    "                track_makeup = {}\n",
    "\n",
    "                trajs_of_track = []\n",
    "\n",
    "                hits = np.array([tup for tup in hits_of_track.data if not all(np.all(elem == 0) for elem in tup)], dtype=hits_of_track.dtype)\n",
    "\n",
    "                total_charge = np.sum(hits['Q'])\n",
    "                total_energy = np.sum(hits['E'])\n",
    "\n",
    "                hit_ref = hits['id']\n",
    "                hits_bt = f['mc_truth/'+hits_dset_name[:-1]+'_backtrack/data'][hit_ref] \n",
    "\n",
    "                # Check if hit['id'] matches index in dset_hits_name\n",
    "                indices = np.where(np.isin(dset_hits['id'], hits['id']))[0]\n",
    "\n",
    "                for i in range(len(indices)):\n",
    "                    if indices[i] != hits['id'][i]:\n",
    "                        print(f'WARNING: rock_muon hit id not the same as {hits_dset_name} index')\n",
    "\n",
    "                # Plot all of the backtracked segment positions\n",
    "                for hit in hits_bt:\n",
    "                    for cont in range(len(hit['fraction'])):\n",
    "                        if hit['fraction'][cont] > 0.0001:\n",
    "                            seg_id = hit['segment_ids'][cont]\n",
    "                            seg = segments[seg_id]\n",
    "                            \n",
    "                            # Append trajectory information to the list\n",
    "                            trajs_of_track.append([\n",
    "                                seg['file_traj_id'],  # File trajectory ID\n",
    "                                seg['n_electrons'],  # Number of electrons\n",
    "                                hit['fraction'][cont],  # Fraction associated with the hit\n",
    "                                seg_id\n",
    "                            ])\n",
    "\n",
    "                            if not seg['segment_id'] == seg_id:\n",
    "                                print(f'WARNING: segment id not the same as segment index!')\n",
    "\n",
    "                traj_arr = np.array(trajs_of_track)\n",
    "                unique_trajs = np.unique(traj_arr[:, 0])\n",
    "\n",
    "                for traj in unique_trajs:\n",
    "                    #Get makeup of track\n",
    "                    index= np.where(np.isin(trajectories['file_traj_id'],traj))[0]\n",
    "                    \n",
    "                    mask = traj_arr[:,0] == traj\n",
    "                    \n",
    "                    wanted_segments = segments[np.unique(np.array(traj_arr[mask][:,-1], dtype = int))]\n",
    "                    pdg_of_traj = trajectories[index]['pdg_id'][0]\n",
    "                    E_of_traj = sum(wanted_segments['dE'])\n",
    "                    #E_of_traj = abs(trajectories[index]['E_end'] - trajectories[index]['E_start'])[0]\n",
    "                    \n",
    "                    if pdg_of_traj not in track_makeup.keys():\n",
    "                        track_makeup[f\"{pdg_of_traj}\"] = E_of_traj\n",
    "                    else:\n",
    "                        track_makeup[f\"{pdg_of_traj}\"] = track_makeup[f\"{pdg_of_traj}\"] + E_of_traj\n",
    "                    \n",
    "                    \n",
    "                \n",
    "                total_E_of_track = sum(track_makeup.values())\n",
    "\n",
    "                for key in track_makeup.keys():\n",
    "                    track_makeup[f'{key}'] = round(track_makeup[f'{key}']/total_E_of_track,6)\n",
    "                \n",
    "                recon_true_E_ratio = total_energy/total_E_of_track\n",
    "                makeup_of_selection.append(track_makeup)\n",
    "                \n",
    "                energy_ratio.append(recon_true_E_ratio)\n",
    "        except Exception as e:\n",
    "            print(f'Error processing file {file}: {e}')\n",
    "            \n",
    "        \n",
    "    return makeup_of_selection, np.array(energy_ratio)\n",
    " \n",
    "\n",
    "data_set = 'calib_prompt_hits'\n",
    "# demonstration of generic backtracking\n",
    "makeup, energy_ratio = back_track_hits(f_manager1.filepath[:1], data_set)"
   ]
  },
  {
   "cell_type": "code",
   "execution_count": 4,
   "id": "ecb82ed1-c733-4cb6-886c-c8fb4ab5d9f3",
   "metadata": {
    "tags": []
   },
   "outputs": [
    {
     "data": {
      "text/plain": [
       "[StairsArtists(stairs=<matplotlib.patches.StepPatch object at 0x7fc0ebd27df0>, errorbar=None, legend_artist=None)]"
      ]
     },
     "execution_count": 4,
     "metadata": {},
     "output_type": "execute_result"
    },
    {
     "data": {
      "image/png": "[encoded data removed]",
      "text/plain": [
       "<Figure size 1000x1000 with 1 Axes>"
      ]
     },
     "metadata": {},
     "output_type": "display_data"
    }
   ],
   "source": [
    "plt.style.use(hep.style.CMS)\n",
    "\n",
    "plt.rcParams.update({'font.size': 12})\n",
    "\n",
    "h, bins = np.histogram(energy_ratio, bins = np.linspace(0,2,10))\n",
    "\n",
    "hep.histplot(h, bins)"
   ]
  },
  {
   "cell_type": "code",
   "execution_count": 3,
   "id": "bee2bafe-2429-4f69-85c7-6aa52ab4750d",
   "metadata": {
    "tags": []
   },
   "outputs": [
    {
     "name": "stdout",
     "output_type": "stream",
     "text": [
      "[{'13': 0.999716, '11': 0.000271, '22': 1.3e-05}, {'13': 0.998839, '11': 0.001148, '22': 1.3e-05}, {'-13': 0.998287, '11': 0.0017, '22': 1.3e-05}, {'-13': 0.959118, '11': 0.000266, '22': 1.3e-05, '-11': 0.040603}, {'-13': 0.995417, '11': 0.004569, '22': 1.5e-05}, {'-13': 0.999935, '11': 5.2e-05, '22': 1.3e-05}, {'13': 0.924541, '11': 0.000464, '22': 1.2e-05, '-11': 0.074983}, {'-13': 0.999963, '11': 2.3e-05, '22': 1.3e-05}, {'-13': 0.973162, '11': 0.000318, '22': 1.4e-05, '-11': 0.026506}, {'-13': 0.999879, '11': 0.000108, '22': 1.3e-05}, {'-13': 0.999936, '11': 5.1e-05, '22': 1.3e-05}, {'-13': 0.999816, '11': 0.000168, '22': 1.6e-05}, {'-13': 0.996417, '11': 0.003569, '22': 1.3e-05}, {'-13': 0.9559, '11': 0.043959, '22': 0.000141}, {'13': 0.949284, '11': 0.001349, '22': 1.3e-05, '-13': 0.034899, '-11': 0.014455}, {'-13': 0.959646, '11': 0.00159, '-11': 0.038753, '22': 1.2e-05}, {'13': 0.9999, '11': 8.5e-05, '22': 1.5e-05}, {'-13': 0.997297, '11': 0.002688, '22': 1.6e-05}, {'-13': 0.999896, '11': 8.6e-05, '22': 1.8e-05}, {'-13': 0.998784, '11': 0.001208, '22': 8e-06}, {'11': 0.002673, '13': 0.997314, '22': 1.3e-05}, {'-13': 0.999777, '11': 0.000205, '22': 1.7e-05}, {'13': 0.998307, '11': 0.00168, '22': 1.3e-05}, {'13': 0.974399, '11': 0.000124, '-11': 0.025463, '22': 1.4e-05}, {'-13': 0.996446, '11': 0.000197, '22': 1.3e-05, '-11': 0.003344}, {'-13': 0.999791, '11': 0.000195, '22': 1.3e-05}, {'-13': 0.99979, '11': 0.000196, '22': 1.4e-05}, {'13': 0.999814, '11': 0.000173, '22': 1.3e-05}, {'-13': 0.990028, '11': 6.2e-05, '22': 1.3e-05, '-11': 0.009897}, {'2212': 0.080313, '2112': 0.00029, '-13': 0.908992, '11': 0.000127, '22': 1.2e-05, '-11': 0.010265}, {'-13': 0.999934, '11': 5.3e-05, '22': 1.3e-05}, {'-13': 0.99918, '11': 0.000806, '22': 1.3e-05}, {'13': 0.99995, '11': 3.7e-05, '22': 1.3e-05}, {'-13': 0.999927, '11': 6.1e-05, '22': 1.3e-05}, {'-13': 0.99785, '11': 0.002136, '22': 1.4e-05}, {'-13': 0.999879, '11': 0.000108, '22': 1.3e-05}, {'-13': 0.998307, '11': 0.001691, '22': 1e-06}, {'-13': 0.999922, '11': 6.4e-05, '22': 1.4e-05}, {'-13': 0.999897, '11': 9e-05, '22': 1.3e-05}, {'-13': 0.999889, '11': 0.00011, '22': 1e-06}, {'-13': 0.931237, '11': 0.000181, '22': 1.4e-05, '-11': 0.068567}, {'-13': 0.999918, '11': 6.7e-05, '22': 1.6e-05}, {'13': 0.981981, '11': 0.00236, '-11': 0.015646, '22': 1.3e-05}, {'2212': 0.999375, '11': 2.7e-05, '1000180400': 0.00059, '22': 7e-06}, {'-13': 0.943745, '11': 7.5e-05, '22': 1.4e-05, '-11': 0.056167}, {'-13': 0.998351, '11': 0.001636, '22': 1.3e-05}, {'22': 1.3e-05, '11': 0.000115, '-13': 0.973668, '-11': 0.026204}, {'-13': 0.998339, '11': 0.001647, '22': 1.4e-05}, {'-13': 0.984153, '11': 0.004006, '22': 1.3e-05, '-11': 0.011827}, {'-13': 0.999953, '11': 3.3e-05, '22': 1.3e-05}, {'-13': 0.999643, '11': 0.000343, '22': 1.3e-05}, {'-13': 0.997981, '11': 0.002006, '22': 1.3e-05}, {'-13': 0.999874, '11': 0.000125, '22': 1e-06}, {'-13': 0.999702, '11': 0.000285, '22': 1.3e-05}, {'-13': 0.98479, '11': 0.003495, '22': 1.3e-05, '-11': 0.011702}, {'-13': 0.999175, '11': 0.000379, '22': 1.3e-05, '1000180400': 0.000432}, {'-13': 0.999771, '11': 0.000215, '22': 1.3e-05}, {'13': 0.999217, '11': 0.000769, '22': 1.4e-05}, {'13': 0.999692, '11': 0.000295, '22': 1.3e-05}, {'13': 0.999903, '11': 8.4e-05, '22': 1.3e-05}, {'13': 0.972104, '11': 0.027883, '22': 1.3e-05}, {'11': 0.000148, '2112': 0.000454, '-13': 0.999381, '22': 1.7e-05}, {'-13': 0.999724, '11': 0.000263, '22': 1.3e-05}, {'-13': 0.998044, '11': 0.001939, '22': 1.8e-05}, {'-13': 0.999918, '11': 6.8e-05, '22': 1.4e-05}, {'-13': 0.995177, '11': 0.000118, '-11': 0.004692, '22': 1.3e-05}, {'-13': 0.999686, '11': 0.000301, '22': 1.4e-05}, {'-13': 0.999926, '11': 6.1e-05, '22': 1.3e-05}, {'-13': 0.994757, '11': 0.005229, '22': 1.3e-05}, {'-13': 0.999947, '11': 3.9e-05, '22': 1.4e-05}, {'13': 0.995589, '11': 0.002161, '22': 1.3e-05, '-11': 0.002238}, {'13': 0.999891, '11': 9.6e-05, '22': 1.3e-05}, {'-13': 0.999921, '11': 6.3e-05, '22': 1.5e-05}, {'-13': 0.99807, '11': 0.001917, '22': 1.3e-05}, {'-13': 0.999546, '11': 0.000439, '22': 1.5e-05}, {'13': 0.99987, '11': 0.000117, '22': 1.3e-05}, {'-13': 0.99986, '11': 0.000126, '22': 1.3e-05}, {'13': 0.998552, '11': 0.001435, '22': 1.3e-05}, {'13': 0.999953, '11': 3.4e-05, '22': 1.3e-05}, {'-13': 0.999814, '11': 0.000186}, {'-211': 0.990343, '11': 0.004528, '22': 1.4e-05, '-11': 0.005115}, {'-13': 0.563324, '2212': 0.124283, '-211': 0.312369, '11': 1.7e-05, '22': 7e-06}, {'-13': 0.998862, '11': 0.001125, '22': 1.3e-05}, {'-13': 0.999912, '11': 7.5e-05, '22': 1.4e-05}, {'-13': 0.99991, '11': 7.6e-05, '22': 1.4e-05}, {'-13': 0.97994, '11': 0.020047, '22': 1.3e-05}, {'-13': 0.999563, '11': 0.000424, '22': 1.3e-05}, {'-13': 0.999867, '11': 0.000132, '22': 1e-06}, {'-13': 0.999931, '11': 5.6e-05, '22': 1.3e-05}, {'-211': 0.999866, '11': 0.00012, '22': 1.4e-05}, {'-13': 0.999589, '11': 0.000398, '22': 1.3e-05}, {'13': 0.999104, '11': 0.000883, '22': 1.3e-05}, {'-13': 0.999273, '11': 0.000714, '22': 1.3e-05}, {'13': 0.99894, '2112': 0.000276, '11': 0.000771, '22': 1.3e-05}, {'-13': 0.999898, '11': 8.9e-05, '22': 1.3e-05}, {'-13': 0.935464, '11': 0.002208, '22': 1.2e-05, '-11': 0.062316}]\n"
     ]
    }
   ],
   "source": [
    "print(makeup)"
   ]
  },
  {
   "cell_type": "code",
   "execution_count": null,
   "id": "3485ca12-214c-4321-9fa8-9aa44198c41d",
   "metadata": {},
   "outputs": [],
   "source": []
  }
 ],
 "metadata": {
  "kernelspec": {
   "display_name": "MyEnv",
   "language": "python",
   "name": "myenv"
  },
  "language_info": {
   "codemirror_mode": {
    "name": "ipython",
    "version": 3
   },
   "file_extension": ".py",
   "mimetype": "text/x-python",
   "name": "python",
   "nbconvert_exporter": "python",
   "pygments_lexer": "ipython3",
   "version": "3.9.16"
  }
 },
 "nbformat": 4,
 "nbformat_minor": 5
}
